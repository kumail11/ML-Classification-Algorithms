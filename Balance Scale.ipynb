{
 "cells": [
  {
   "cell_type": "code",
   "execution_count": 1,
   "id": "492ee7d9",
   "metadata": {},
   "outputs": [],
   "source": [
    "import numpy as np\n",
    "import pandas as pd\n",
    "from matplotlib import pyplot as plt\n",
    "import seaborn as sns"
   ]
  },
  {
   "cell_type": "code",
   "execution_count": 96,
   "id": "644e17c0",
   "metadata": {},
   "outputs": [],
   "source": [
    "balance_cols = ['Class Name', 'Left-Weight', 'Left-Distance', 'Right-Weight', 'Right-Distance']"
   ]
  },
  {
   "cell_type": "code",
   "execution_count": 97,
   "id": "1c93039e",
   "metadata": {},
   "outputs": [
    {
     "data": {
      "text/html": [
       "<div>\n",
       "<style scoped>\n",
       "    .dataframe tbody tr th:only-of-type {\n",
       "        vertical-align: middle;\n",
       "    }\n",
       "\n",
       "    .dataframe tbody tr th {\n",
       "        vertical-align: top;\n",
       "    }\n",
       "\n",
       "    .dataframe thead th {\n",
       "        text-align: right;\n",
       "    }\n",
       "</style>\n",
       "<table border=\"1\" class=\"dataframe\">\n",
       "  <thead>\n",
       "    <tr style=\"text-align: right;\">\n",
       "      <th></th>\n",
       "      <th>Class Name</th>\n",
       "      <th>Left-Weight</th>\n",
       "      <th>Left-Distance</th>\n",
       "      <th>Right-Weight</th>\n",
       "      <th>Right-Distance</th>\n",
       "    </tr>\n",
       "  </thead>\n",
       "  <tbody>\n",
       "    <tr>\n",
       "      <th>0</th>\n",
       "      <td>B</td>\n",
       "      <td>1</td>\n",
       "      <td>1</td>\n",
       "      <td>1</td>\n",
       "      <td>1</td>\n",
       "    </tr>\n",
       "    <tr>\n",
       "      <th>1</th>\n",
       "      <td>R</td>\n",
       "      <td>1</td>\n",
       "      <td>1</td>\n",
       "      <td>1</td>\n",
       "      <td>2</td>\n",
       "    </tr>\n",
       "    <tr>\n",
       "      <th>2</th>\n",
       "      <td>R</td>\n",
       "      <td>1</td>\n",
       "      <td>1</td>\n",
       "      <td>1</td>\n",
       "      <td>3</td>\n",
       "    </tr>\n",
       "    <tr>\n",
       "      <th>3</th>\n",
       "      <td>R</td>\n",
       "      <td>1</td>\n",
       "      <td>1</td>\n",
       "      <td>1</td>\n",
       "      <td>4</td>\n",
       "    </tr>\n",
       "    <tr>\n",
       "      <th>4</th>\n",
       "      <td>R</td>\n",
       "      <td>1</td>\n",
       "      <td>1</td>\n",
       "      <td>1</td>\n",
       "      <td>5</td>\n",
       "    </tr>\n",
       "  </tbody>\n",
       "</table>\n",
       "</div>"
      ],
      "text/plain": [
       "  Class Name  Left-Weight  Left-Distance  Right-Weight  Right-Distance\n",
       "0          B            1              1             1               1\n",
       "1          R            1              1             1               2\n",
       "2          R            1              1             1               3\n",
       "3          R            1              1             1               4\n",
       "4          R            1              1             1               5"
      ]
     },
     "execution_count": 97,
     "metadata": {},
     "output_type": "execute_result"
    }
   ],
   "source": [
    "my_frame = pd.read_csv('balance-scale.csv', names = balance_cols)\n",
    "my_frame.head()"
   ]
  },
  {
   "cell_type": "code",
   "execution_count": 98,
   "id": "4ad424fc",
   "metadata": {},
   "outputs": [
    {
     "data": {
      "text/plain": [
       "(625, 5)"
      ]
     },
     "execution_count": 98,
     "metadata": {},
     "output_type": "execute_result"
    }
   ],
   "source": [
    "my_frame.shape"
   ]
  },
  {
   "cell_type": "code",
   "execution_count": 99,
   "id": "f22f5e04",
   "metadata": {},
   "outputs": [
    {
     "name": "stdout",
     "output_type": "stream",
     "text": [
      "<class 'pandas.core.frame.DataFrame'>\n",
      "RangeIndex: 625 entries, 0 to 624\n",
      "Data columns (total 5 columns):\n",
      " #   Column          Non-Null Count  Dtype \n",
      "---  ------          --------------  ----- \n",
      " 0   Class Name      625 non-null    object\n",
      " 1   Left-Weight     625 non-null    int64 \n",
      " 2   Left-Distance   625 non-null    int64 \n",
      " 3   Right-Weight    625 non-null    int64 \n",
      " 4   Right-Distance  625 non-null    int64 \n",
      "dtypes: int64(4), object(1)\n",
      "memory usage: 24.5+ KB\n"
     ]
    }
   ],
   "source": [
    "my_frame.info()"
   ]
  },
  {
   "cell_type": "code",
   "execution_count": 100,
   "id": "4f1b2ecb",
   "metadata": {},
   "outputs": [
    {
     "data": {
      "text/html": [
       "<div>\n",
       "<style scoped>\n",
       "    .dataframe tbody tr th:only-of-type {\n",
       "        vertical-align: middle;\n",
       "    }\n",
       "\n",
       "    .dataframe tbody tr th {\n",
       "        vertical-align: top;\n",
       "    }\n",
       "\n",
       "    .dataframe thead th {\n",
       "        text-align: right;\n",
       "    }\n",
       "</style>\n",
       "<table border=\"1\" class=\"dataframe\">\n",
       "  <thead>\n",
       "    <tr style=\"text-align: right;\">\n",
       "      <th></th>\n",
       "      <th>Left-Weight</th>\n",
       "      <th>Left-Distance</th>\n",
       "      <th>Right-Weight</th>\n",
       "      <th>Right-Distance</th>\n",
       "    </tr>\n",
       "  </thead>\n",
       "  <tbody>\n",
       "    <tr>\n",
       "      <th>count</th>\n",
       "      <td>625.000000</td>\n",
       "      <td>625.000000</td>\n",
       "      <td>625.000000</td>\n",
       "      <td>625.000000</td>\n",
       "    </tr>\n",
       "    <tr>\n",
       "      <th>mean</th>\n",
       "      <td>3.000000</td>\n",
       "      <td>3.000000</td>\n",
       "      <td>3.000000</td>\n",
       "      <td>3.000000</td>\n",
       "    </tr>\n",
       "    <tr>\n",
       "      <th>std</th>\n",
       "      <td>1.415346</td>\n",
       "      <td>1.415346</td>\n",
       "      <td>1.415346</td>\n",
       "      <td>1.415346</td>\n",
       "    </tr>\n",
       "    <tr>\n",
       "      <th>min</th>\n",
       "      <td>1.000000</td>\n",
       "      <td>1.000000</td>\n",
       "      <td>1.000000</td>\n",
       "      <td>1.000000</td>\n",
       "    </tr>\n",
       "    <tr>\n",
       "      <th>25%</th>\n",
       "      <td>2.000000</td>\n",
       "      <td>2.000000</td>\n",
       "      <td>2.000000</td>\n",
       "      <td>2.000000</td>\n",
       "    </tr>\n",
       "    <tr>\n",
       "      <th>50%</th>\n",
       "      <td>3.000000</td>\n",
       "      <td>3.000000</td>\n",
       "      <td>3.000000</td>\n",
       "      <td>3.000000</td>\n",
       "    </tr>\n",
       "    <tr>\n",
       "      <th>75%</th>\n",
       "      <td>4.000000</td>\n",
       "      <td>4.000000</td>\n",
       "      <td>4.000000</td>\n",
       "      <td>4.000000</td>\n",
       "    </tr>\n",
       "    <tr>\n",
       "      <th>max</th>\n",
       "      <td>5.000000</td>\n",
       "      <td>5.000000</td>\n",
       "      <td>5.000000</td>\n",
       "      <td>5.000000</td>\n",
       "    </tr>\n",
       "  </tbody>\n",
       "</table>\n",
       "</div>"
      ],
      "text/plain": [
       "       Left-Weight  Left-Distance  Right-Weight  Right-Distance\n",
       "count   625.000000     625.000000    625.000000      625.000000\n",
       "mean      3.000000       3.000000      3.000000        3.000000\n",
       "std       1.415346       1.415346      1.415346        1.415346\n",
       "min       1.000000       1.000000      1.000000        1.000000\n",
       "25%       2.000000       2.000000      2.000000        2.000000\n",
       "50%       3.000000       3.000000      3.000000        3.000000\n",
       "75%       4.000000       4.000000      4.000000        4.000000\n",
       "max       5.000000       5.000000      5.000000        5.000000"
      ]
     },
     "execution_count": 100,
     "metadata": {},
     "output_type": "execute_result"
    }
   ],
   "source": [
    "my_frame.describe()"
   ]
  },
  {
   "cell_type": "code",
   "execution_count": 101,
   "id": "8f09c52e",
   "metadata": {},
   "outputs": [
    {
     "data": {
      "text/plain": [
       "Class Name        0\n",
       "Left-Weight       0\n",
       "Left-Distance     0\n",
       "Right-Weight      0\n",
       "Right-Distance    0\n",
       "dtype: int64"
      ]
     },
     "execution_count": 101,
     "metadata": {},
     "output_type": "execute_result"
    }
   ],
   "source": [
    "my_frame.isnull().sum()"
   ]
  },
  {
   "cell_type": "code",
   "execution_count": 102,
   "id": "75cfc4e8",
   "metadata": {},
   "outputs": [
    {
     "data": {
      "text/plain": [
       "<AxesSubplot:>"
      ]
     },
     "execution_count": 102,
     "metadata": {},
     "output_type": "execute_result"
    },
    {
     "data": {
      "image/png": "[encoded data removed]",
      "text/plain": [
       "<Figure size 1080x576 with 2 Axes>"
      ]
     },
     "metadata": {},
     "output_type": "display_data"
    }
   ],
   "source": [
    "plt.style.use('fivethirtyeight')\n",
    "\n",
    "fig = plt.figure(figsize = (15, 8))\n",
    "sns.heatmap(my_frame.isnull())"
   ]
  },
  {
   "cell_type": "code",
   "execution_count": 103,
   "id": "3879f9c4",
   "metadata": {},
   "outputs": [
    {
     "data": {
      "text/html": [
       "<div>\n",
       "<style scoped>\n",
       "    .dataframe tbody tr th:only-of-type {\n",
       "        vertical-align: middle;\n",
       "    }\n",
       "\n",
       "    .dataframe tbody tr th {\n",
       "        vertical-align: top;\n",
       "    }\n",
       "\n",
       "    .dataframe thead th {\n",
       "        text-align: right;\n",
       "    }\n",
       "</style>\n",
       "<table border=\"1\" class=\"dataframe\">\n",
       "  <thead>\n",
       "    <tr style=\"text-align: right;\">\n",
       "      <th></th>\n",
       "      <th>Left-Weight</th>\n",
       "      <th>Left-Distance</th>\n",
       "      <th>Right-Weight</th>\n",
       "      <th>Right-Distance</th>\n",
       "    </tr>\n",
       "  </thead>\n",
       "  <tbody>\n",
       "    <tr>\n",
       "      <th>Left-Weight</th>\n",
       "      <td>1.000000e+00</td>\n",
       "      <td>7.034373e-16</td>\n",
       "      <td>-5.798029e-16</td>\n",
       "      <td>-1.017497e-15</td>\n",
       "    </tr>\n",
       "    <tr>\n",
       "      <th>Left-Distance</th>\n",
       "      <td>7.034373e-16</td>\n",
       "      <td>1.000000e+00</td>\n",
       "      <td>-1.278977e-16</td>\n",
       "      <td>-3.311129e-16</td>\n",
       "    </tr>\n",
       "    <tr>\n",
       "      <th>Right-Weight</th>\n",
       "      <td>-5.798029e-16</td>\n",
       "      <td>-1.278977e-16</td>\n",
       "      <td>1.000000e+00</td>\n",
       "      <td>-5.613288e-17</td>\n",
       "    </tr>\n",
       "    <tr>\n",
       "      <th>Right-Distance</th>\n",
       "      <td>-1.017497e-15</td>\n",
       "      <td>-3.311129e-16</td>\n",
       "      <td>-5.613288e-17</td>\n",
       "      <td>1.000000e+00</td>\n",
       "    </tr>\n",
       "  </tbody>\n",
       "</table>\n",
       "</div>"
      ],
      "text/plain": [
       "                 Left-Weight  Left-Distance  Right-Weight  Right-Distance\n",
       "Left-Weight     1.000000e+00   7.034373e-16 -5.798029e-16   -1.017497e-15\n",
       "Left-Distance   7.034373e-16   1.000000e+00 -1.278977e-16   -3.311129e-16\n",
       "Right-Weight   -5.798029e-16  -1.278977e-16  1.000000e+00   -5.613288e-17\n",
       "Right-Distance -1.017497e-15  -3.311129e-16 -5.613288e-17    1.000000e+00"
      ]
     },
     "execution_count": 103,
     "metadata": {},
     "output_type": "execute_result"
    }
   ],
   "source": [
    "my_frame.corr()"
   ]
  },
  {
   "cell_type": "code",
   "execution_count": 104,
   "id": "0c6cb869",
   "metadata": {},
   "outputs": [],
   "source": [
    "my_frame = my_frame.drop('Class Name', axis = 1)"
   ]
  },
  {
   "cell_type": "code",
   "execution_count": 105,
   "id": "0e0e238b",
   "metadata": {},
   "outputs": [
    {
     "data": {
      "text/html": [
       "<div>\n",
       "<style scoped>\n",
       "    .dataframe tbody tr th:only-of-type {\n",
       "        vertical-align: middle;\n",
       "    }\n",
       "\n",
       "    .dataframe tbody tr th {\n",
       "        vertical-align: top;\n",
       "    }\n",
       "\n",
       "    .dataframe thead th {\n",
       "        text-align: right;\n",
       "    }\n",
       "</style>\n",
       "<table border=\"1\" class=\"dataframe\">\n",
       "  <thead>\n",
       "    <tr style=\"text-align: right;\">\n",
       "      <th></th>\n",
       "      <th>Left-Weight</th>\n",
       "      <th>Left-Distance</th>\n",
       "      <th>Right-Weight</th>\n",
       "      <th>Right-Distance</th>\n",
       "    </tr>\n",
       "  </thead>\n",
       "  <tbody>\n",
       "    <tr>\n",
       "      <th>0</th>\n",
       "      <td>1</td>\n",
       "      <td>1</td>\n",
       "      <td>1</td>\n",
       "      <td>1</td>\n",
       "    </tr>\n",
       "    <tr>\n",
       "      <th>1</th>\n",
       "      <td>1</td>\n",
       "      <td>1</td>\n",
       "      <td>1</td>\n",
       "      <td>2</td>\n",
       "    </tr>\n",
       "    <tr>\n",
       "      <th>2</th>\n",
       "      <td>1</td>\n",
       "      <td>1</td>\n",
       "      <td>1</td>\n",
       "      <td>3</td>\n",
       "    </tr>\n",
       "    <tr>\n",
       "      <th>3</th>\n",
       "      <td>1</td>\n",
       "      <td>1</td>\n",
       "      <td>1</td>\n",
       "      <td>4</td>\n",
       "    </tr>\n",
       "    <tr>\n",
       "      <th>4</th>\n",
       "      <td>1</td>\n",
       "      <td>1</td>\n",
       "      <td>1</td>\n",
       "      <td>5</td>\n",
       "    </tr>\n",
       "  </tbody>\n",
       "</table>\n",
       "</div>"
      ],
      "text/plain": [
       "   Left-Weight  Left-Distance  Right-Weight  Right-Distance\n",
       "0            1              1             1               1\n",
       "1            1              1             1               2\n",
       "2            1              1             1               3\n",
       "3            1              1             1               4\n",
       "4            1              1             1               5"
      ]
     },
     "execution_count": 105,
     "metadata": {},
     "output_type": "execute_result"
    }
   ],
   "source": [
    "my_frame.head()"
   ]
  },
  {
   "cell_type": "markdown",
   "id": "7b27ae4a",
   "metadata": {},
   "source": [
    "## train test split"
   ]
  },
  {
   "cell_type": "code",
   "execution_count": 106,
   "id": "fecfd3f1",
   "metadata": {},
   "outputs": [],
   "source": [
    "from sklearn.model_selection import train_test_split\n",
    "from sklearn.metrics import classification_report, confusion_matrix, accuracy_score"
   ]
  },
  {
   "cell_type": "code",
   "execution_count": 107,
   "id": "69846d36",
   "metadata": {},
   "outputs": [],
   "source": [
    "x = my_frame.drop('Right-Distance', axis = 1).values\n",
    "y = my_frame['Right-Distance'].values"
   ]
  },
  {
   "cell_type": "code",
   "execution_count": 108,
   "id": "d39be521",
   "metadata": {},
   "outputs": [],
   "source": [
    "x_train, x_test, y_train, y_test = train_test_split(x, y, test_size = 0.2, random_state = 5)"
   ]
  },
  {
   "cell_type": "markdown",
   "id": "375a2353",
   "metadata": {},
   "source": [
    "## Logistic Regression"
   ]
  },
  {
   "cell_type": "code",
   "execution_count": 109,
   "id": "c8fac40c",
   "metadata": {},
   "outputs": [],
   "source": [
    "from sklearn.linear_model import LogisticRegression"
   ]
  },
  {
   "cell_type": "code",
   "execution_count": 110,
   "id": "271af909",
   "metadata": {},
   "outputs": [],
   "source": [
    "lR_model = LogisticRegression()"
   ]
  },
  {
   "cell_type": "code",
   "execution_count": 111,
   "id": "b33cff2b",
   "metadata": {},
   "outputs": [
    {
     "data": {
      "text/plain": [
       "LogisticRegression()"
      ]
     },
     "execution_count": 111,
     "metadata": {},
     "output_type": "execute_result"
    }
   ],
   "source": [
    "lR_model.fit(x_train, y_train)"
   ]
  },
  {
   "cell_type": "code",
   "execution_count": 112,
   "id": "b65085ce",
   "metadata": {},
   "outputs": [],
   "source": [
    "lR_y_pred = lR_model.predict(x_test)"
   ]
  },
  {
   "cell_type": "code",
   "execution_count": 113,
   "id": "7e82b3f3",
   "metadata": {},
   "outputs": [
    {
     "name": "stdout",
     "output_type": "stream",
     "text": [
      "              precision    recall  f1-score   support\n",
      "\n",
      "           1       0.17      0.17      0.17        24\n",
      "           2       0.12      0.45      0.19        20\n",
      "           3       0.00      0.00      0.00        24\n",
      "           4       0.33      0.06      0.11        32\n",
      "           5       0.42      0.20      0.27        25\n",
      "\n",
      "    accuracy                           0.16       125\n",
      "   macro avg       0.21      0.18      0.15       125\n",
      "weighted avg       0.22      0.16      0.14       125\n",
      "\n",
      "[[ 4 16  1  2  1]\n",
      " [ 5  9  2  1  3]\n",
      " [ 5 17  0  1  1]\n",
      " [ 7 18  3  2  2]\n",
      " [ 3 17  0  0  5]]\n",
      "\n",
      "Logistic Regression Accuracy: 16.0\n"
     ]
    }
   ],
   "source": [
    "print(classification_report(y_test, lR_y_pred))\n",
    "print(confusion_matrix(y_test, lR_y_pred))\n",
    "print(\"\\nLogistic Regression Accuracy:\", accuracy_score(y_test, lR_y_pred) * 100)"
   ]
  },
  {
   "cell_type": "markdown",
   "id": "2b3b3751",
   "metadata": {},
   "source": [
    "## SVM"
   ]
  },
  {
   "cell_type": "code",
   "execution_count": 114,
   "id": "d4cde84a",
   "metadata": {},
   "outputs": [],
   "source": [
    "from sklearn.svm import SVC"
   ]
  },
  {
   "cell_type": "code",
   "execution_count": 115,
   "id": "d0e42126",
   "metadata": {},
   "outputs": [],
   "source": [
    "svc_model = SVC(kernel = 'linear')"
   ]
  },
  {
   "cell_type": "code",
   "execution_count": 116,
   "id": "addf1934",
   "metadata": {},
   "outputs": [
    {
     "data": {
      "text/plain": [
       "SVC(kernel='linear')"
      ]
     },
     "execution_count": 116,
     "metadata": {},
     "output_type": "execute_result"
    }
   ],
   "source": [
    "svc_model.fit(x_train, y_train)"
   ]
  },
  {
   "cell_type": "code",
   "execution_count": 117,
   "id": "e157abd9",
   "metadata": {},
   "outputs": [],
   "source": [
    "svc_y_pred = svc_model.predict(x_test)"
   ]
  },
  {
   "cell_type": "code",
   "execution_count": 118,
   "id": "c6d41436",
   "metadata": {},
   "outputs": [
    {
     "name": "stdout",
     "output_type": "stream",
     "text": [
      "              precision    recall  f1-score   support\n",
      "\n",
      "           1       0.16      0.25      0.20        24\n",
      "           2       0.14      0.50      0.22        20\n",
      "           3       0.11      0.08      0.09        24\n",
      "           4       0.00      0.00      0.00        32\n",
      "           5       0.00      0.00      0.00        25\n",
      "\n",
      "    accuracy                           0.14       125\n",
      "   macro avg       0.08      0.17      0.10       125\n",
      "weighted avg       0.07      0.14      0.09       125\n",
      "\n",
      "[[ 6 15  3  0  0]\n",
      " [ 7 10  3  0  0]\n",
      " [ 7 15  2  0  0]\n",
      " [10 18  4  0  0]\n",
      " [ 7 11  7  0  0]]\n",
      "\n",
      "SVM Accuracy: 14.399999999999999\n"
     ]
    },
    {
     "name": "stderr",
     "output_type": "stream",
     "text": [
      "G:\\MyPython3\\lib\\site-packages\\sklearn\\metrics\\_classification.py:1245: UndefinedMetricWarning: Precision and F-score are ill-defined and being set to 0.0 in labels with no predicted samples. Use `zero_division` parameter to control this behavior.\n",
      "  _warn_prf(average, modifier, msg_start, len(result))\n",
      "G:\\MyPython3\\lib\\site-packages\\sklearn\\metrics\\_classification.py:1245: UndefinedMetricWarning: Precision and F-score are ill-defined and being set to 0.0 in labels with no predicted samples. Use `zero_division` parameter to control this behavior.\n",
      "  _warn_prf(average, modifier, msg_start, len(result))\n",
      "G:\\MyPython3\\lib\\site-packages\\sklearn\\metrics\\_classification.py:1245: UndefinedMetricWarning: Precision and F-score are ill-defined and being set to 0.0 in labels with no predicted samples. Use `zero_division` parameter to control this behavior.\n",
      "  _warn_prf(average, modifier, msg_start, len(result))\n"
     ]
    }
   ],
   "source": [
    "print(classification_report(y_test, svc_y_pred))\n",
    "print(confusion_matrix(y_test, svc_y_pred))\n",
    "print(\"\\nSVM Accuracy:\", accuracy_score(y_test, svc_y_pred) * 100)"
   ]
  },
  {
   "cell_type": "markdown",
   "id": "d3e1a3eb",
   "metadata": {},
   "source": [
    "## Naive Bayes"
   ]
  },
  {
   "cell_type": "code",
   "execution_count": 119,
   "id": "5a3a730b",
   "metadata": {},
   "outputs": [],
   "source": [
    "from sklearn.naive_bayes import GaussianNB"
   ]
  },
  {
   "cell_type": "code",
   "execution_count": 120,
   "id": "d1ef17a5",
   "metadata": {},
   "outputs": [],
   "source": [
    "nb_model = GaussianNB()"
   ]
  },
  {
   "cell_type": "code",
   "execution_count": 121,
   "id": "a6eaa90b",
   "metadata": {},
   "outputs": [
    {
     "data": {
      "text/plain": [
       "GaussianNB()"
      ]
     },
     "execution_count": 121,
     "metadata": {},
     "output_type": "execute_result"
    }
   ],
   "source": [
    "nb_model.fit(x_train, y_train)"
   ]
  },
  {
   "cell_type": "code",
   "execution_count": 122,
   "id": "c37f5a12",
   "metadata": {},
   "outputs": [],
   "source": [
    "nb_y_pred = nb_model.predict(x_test)"
   ]
  },
  {
   "cell_type": "code",
   "execution_count": 123,
   "id": "81ea56ed",
   "metadata": {},
   "outputs": [
    {
     "name": "stdout",
     "output_type": "stream",
     "text": [
      "              precision    recall  f1-score   support\n",
      "\n",
      "           1       0.12      0.12      0.12        24\n",
      "           2       0.12      0.50      0.20        20\n",
      "           3       0.00      0.00      0.00        24\n",
      "           4       0.00      0.00      0.00        32\n",
      "           5       0.13      0.08      0.10        25\n",
      "\n",
      "    accuracy                           0.12       125\n",
      "   macro avg       0.07      0.14      0.08       125\n",
      "weighted avg       0.07      0.12      0.08       125\n",
      "\n",
      "[[ 3 17  1  0  3]\n",
      " [ 6 10  1  0  3]\n",
      " [ 6 14  0  0  4]\n",
      " [ 6 21  2  0  3]\n",
      " [ 5 18  0  0  2]]\n",
      "\n",
      "Naive Bayes Accuracy: 12.0\n"
     ]
    },
    {
     "name": "stderr",
     "output_type": "stream",
     "text": [
      "G:\\MyPython3\\lib\\site-packages\\sklearn\\metrics\\_classification.py:1245: UndefinedMetricWarning: Precision and F-score are ill-defined and being set to 0.0 in labels with no predicted samples. Use `zero_division` parameter to control this behavior.\n",
      "  _warn_prf(average, modifier, msg_start, len(result))\n",
      "G:\\MyPython3\\lib\\site-packages\\sklearn\\metrics\\_classification.py:1245: UndefinedMetricWarning: Precision and F-score are ill-defined and being set to 0.0 in labels with no predicted samples. Use `zero_division` parameter to control this behavior.\n",
      "  _warn_prf(average, modifier, msg_start, len(result))\n",
      "G:\\MyPython3\\lib\\site-packages\\sklearn\\metrics\\_classification.py:1245: UndefinedMetricWarning: Precision and F-score are ill-defined and being set to 0.0 in labels with no predicted samples. Use `zero_division` parameter to control this behavior.\n",
      "  _warn_prf(average, modifier, msg_start, len(result))\n"
     ]
    }
   ],
   "source": [
    "print(classification_report(y_test, nb_y_pred))\n",
    "print(confusion_matrix(y_test, nb_y_pred))\n",
    "print(\"\\nNaive Bayes Accuracy:\", accuracy_score(y_test, nb_y_pred) * 100)"
   ]
  },
  {
   "cell_type": "markdown",
   "id": "a03654e0",
   "metadata": {},
   "source": [
    "## KNearest Neighbor"
   ]
  },
  {
   "cell_type": "code",
   "execution_count": 124,
   "id": "c96762eb",
   "metadata": {},
   "outputs": [],
   "source": [
    "from sklearn.neighbors import KNeighborsClassifier"
   ]
  },
  {
   "cell_type": "code",
   "execution_count": 125,
   "id": "1100301e",
   "metadata": {},
   "outputs": [],
   "source": [
    "knn_model = KNeighborsClassifier(n_neighbors = 2)"
   ]
  },
  {
   "cell_type": "code",
   "execution_count": 126,
   "id": "04d5ac56",
   "metadata": {},
   "outputs": [
    {
     "data": {
      "text/plain": [
       "KNeighborsClassifier(n_neighbors=2)"
      ]
     },
     "execution_count": 126,
     "metadata": {},
     "output_type": "execute_result"
    }
   ],
   "source": [
    "knn_model.fit(x_train, y_train)"
   ]
  },
  {
   "cell_type": "code",
   "execution_count": 127,
   "id": "bba9e354",
   "metadata": {},
   "outputs": [],
   "source": [
    "knn_y_pred = knn_model.predict(x_test)"
   ]
  },
  {
   "cell_type": "code",
   "execution_count": 128,
   "id": "cb6e14fa",
   "metadata": {},
   "outputs": [
    {
     "name": "stdout",
     "output_type": "stream",
     "text": [
      "              precision    recall  f1-score   support\n",
      "\n",
      "           1       0.00      0.00      0.00        24\n",
      "           2       0.02      0.05      0.03        20\n",
      "           3       0.00      0.00      0.00        24\n",
      "           4       0.00      0.00      0.00        32\n",
      "           5       0.00      0.00      0.00        25\n",
      "\n",
      "    accuracy                           0.01       125\n",
      "   macro avg       0.00      0.01      0.01       125\n",
      "weighted avg       0.00      0.01      0.00       125\n",
      "\n",
      "[[ 0 13  9  2  0]\n",
      " [11  1  8  0  0]\n",
      " [10 12  0  2  0]\n",
      " [17 10  5  0  0]\n",
      " [14  9  2  0  0]]\n",
      "\n",
      "KNN Accuracy: 0.8\n"
     ]
    },
    {
     "name": "stderr",
     "output_type": "stream",
     "text": [
      "G:\\MyPython3\\lib\\site-packages\\sklearn\\metrics\\_classification.py:1245: UndefinedMetricWarning: Precision and F-score are ill-defined and being set to 0.0 in labels with no predicted samples. Use `zero_division` parameter to control this behavior.\n",
      "  _warn_prf(average, modifier, msg_start, len(result))\n",
      "G:\\MyPython3\\lib\\site-packages\\sklearn\\metrics\\_classification.py:1245: UndefinedMetricWarning: Precision and F-score are ill-defined and being set to 0.0 in labels with no predicted samples. Use `zero_division` parameter to control this behavior.\n",
      "  _warn_prf(average, modifier, msg_start, len(result))\n",
      "G:\\MyPython3\\lib\\site-packages\\sklearn\\metrics\\_classification.py:1245: UndefinedMetricWarning: Precision and F-score are ill-defined and being set to 0.0 in labels with no predicted samples. Use `zero_division` parameter to control this behavior.\n",
      "  _warn_prf(average, modifier, msg_start, len(result))\n"
     ]
    }
   ],
   "source": [
    "print(classification_report(y_test, knn_y_pred))\n",
    "print(confusion_matrix(y_test, knn_y_pred))\n",
    "print(\"\\nKNN Accuracy:\", accuracy_score(y_test, knn_y_pred) * 100)"
   ]
  },
  {
   "cell_type": "markdown",
   "id": "86d9a1ab",
   "metadata": {},
   "source": [
    "## Decision Tree"
   ]
  },
  {
   "cell_type": "code",
   "execution_count": 129,
   "id": "68893b8d",
   "metadata": {},
   "outputs": [],
   "source": [
    "from sklearn.tree import DecisionTreeClassifier"
   ]
  },
  {
   "cell_type": "code",
   "execution_count": 130,
   "id": "c713675c",
   "metadata": {},
   "outputs": [],
   "source": [
    "dt_model = DecisionTreeClassifier()"
   ]
  },
  {
   "cell_type": "code",
   "execution_count": 131,
   "id": "0d3b48b2",
   "metadata": {},
   "outputs": [
    {
     "data": {
      "text/plain": [
       "DecisionTreeClassifier()"
      ]
     },
     "execution_count": 131,
     "metadata": {},
     "output_type": "execute_result"
    }
   ],
   "source": [
    "dt_model.fit(x_train, y_train)"
   ]
  },
  {
   "cell_type": "code",
   "execution_count": 132,
   "id": "1de203ed",
   "metadata": {},
   "outputs": [],
   "source": [
    "dt_y_pred = dt_model.predict(x_test)"
   ]
  },
  {
   "cell_type": "code",
   "execution_count": 133,
   "id": "0bbce2fb",
   "metadata": {},
   "outputs": [
    {
     "name": "stdout",
     "output_type": "stream",
     "text": [
      "              precision    recall  f1-score   support\n",
      "\n",
      "           1       0.00      0.00      0.00      24.0\n",
      "           2       0.00      0.00      0.00      20.0\n",
      "           3       0.00      0.00      0.00      24.0\n",
      "           4       0.00      0.00      0.00      32.0\n",
      "           5       0.00      0.00      0.00      25.0\n",
      "\n",
      "    accuracy                           0.00     125.0\n",
      "   macro avg       0.00      0.00      0.00     125.0\n",
      "weighted avg       0.00      0.00      0.00     125.0\n",
      "\n",
      "[[ 0 19  4  0  1]\n",
      " [15  0  4  0  1]\n",
      " [18  5  0  0  1]\n",
      " [25  4  2  0  1]\n",
      " [23  1  1  0  0]]\n",
      "\n",
      "Decision Tree Accuracy: 0.0\n"
     ]
    },
    {
     "name": "stderr",
     "output_type": "stream",
     "text": [
      "G:\\MyPython3\\lib\\site-packages\\sklearn\\metrics\\_classification.py:1245: UndefinedMetricWarning: Precision and F-score are ill-defined and being set to 0.0 in labels with no predicted samples. Use `zero_division` parameter to control this behavior.\n",
      "  _warn_prf(average, modifier, msg_start, len(result))\n",
      "G:\\MyPython3\\lib\\site-packages\\sklearn\\metrics\\_classification.py:1245: UndefinedMetricWarning: Precision and F-score are ill-defined and being set to 0.0 in labels with no predicted samples. Use `zero_division` parameter to control this behavior.\n",
      "  _warn_prf(average, modifier, msg_start, len(result))\n",
      "G:\\MyPython3\\lib\\site-packages\\sklearn\\metrics\\_classification.py:1245: UndefinedMetricWarning: Precision and F-score are ill-defined and being set to 0.0 in labels with no predicted samples. Use `zero_division` parameter to control this behavior.\n",
      "  _warn_prf(average, modifier, msg_start, len(result))\n"
     ]
    }
   ],
   "source": [
    "print(classification_report(y_test, dt_y_pred))\n",
    "print(confusion_matrix(y_test, dt_y_pred))\n",
    "print(\"\\nDecision Tree Accuracy:\", accuracy_score(y_test, dt_y_pred) * 100)"
   ]
  },
  {
   "cell_type": "markdown",
   "id": "59747c3e",
   "metadata": {},
   "source": [
    "## Average Accuracy"
   ]
  },
  {
   "cell_type": "code",
   "execution_count": 134,
   "id": "21b34d65",
   "metadata": {},
   "outputs": [
    {
     "name": "stdout",
     "output_type": "stream",
     "text": [
      "Average Prediction of Models: 10.4\n"
     ]
    }
   ],
   "source": [
    "avg_predict = (lR_y_pred + svc_y_pred + nb_y_pred + knn_y_pred + dt_y_pred) // 5\n",
    "predict_accuracy = accuracy_score(y_test, avg_predict)\n",
    "print(\"Average Prediction of Models:\", predict_accuracy * 100)"
   ]
  },
  {
   "cell_type": "markdown",
   "id": "9d598281",
   "metadata": {},
   "source": [
    "## Apply bagging & boosting"
   ]
  },
  {
   "cell_type": "code",
   "execution_count": 135,
   "id": "d8f67b0b",
   "metadata": {},
   "outputs": [],
   "source": [
    "from sklearn.ensemble import VotingClassifier\n",
    "from sklearn.ensemble import BaggingClassifier\n",
    "from sklearn.ensemble import AdaBoostClassifier, RandomForestClassifier, ExtraTreesClassifier\n",
    "from sklearn.metrics import accuracy_score, f1_score, log_loss"
   ]
  },
  {
   "cell_type": "code",
   "execution_count": 136,
   "id": "17a09007",
   "metadata": {},
   "outputs": [],
   "source": [
    "voting_classifier = VotingClassifier(estimators = [('LR', lR_model), ('SVC', svc_model), ('NB', nb_model), ('KNN', knn_model), ('DTree', dt_model)], voting = 'hard')"
   ]
  },
  {
   "cell_type": "code",
   "execution_count": 137,
   "id": "69af7a5b",
   "metadata": {},
   "outputs": [
    {
     "data": {
      "text/plain": [
       "VotingClassifier(estimators=[('LR', LogisticRegression()),\n",
       "                             ('SVC', SVC(kernel='linear')),\n",
       "                             ('NB', GaussianNB()),\n",
       "                             ('KNN', KNeighborsClassifier(n_neighbors=2)),\n",
       "                             ('DTree', DecisionTreeClassifier())])"
      ]
     },
     "execution_count": 137,
     "metadata": {},
     "output_type": "execute_result"
    }
   ],
   "source": [
    "voting_classifier.fit(x_train, y_train)"
   ]
  },
  {
   "cell_type": "code",
   "execution_count": 138,
   "id": "7948bc36",
   "metadata": {},
   "outputs": [],
   "source": [
    "voting_y_pred = voting_classifier.predict(x_test)"
   ]
  },
  {
   "cell_type": "markdown",
   "id": "6bf7e31a",
   "metadata": {},
   "source": [
    "## Apply KFold"
   ]
  },
  {
   "cell_type": "code",
   "execution_count": 139,
   "id": "435bb6e6",
   "metadata": {},
   "outputs": [],
   "source": [
    "from sklearn.model_selection import KFold, cross_val_score"
   ]
  },
  {
   "cell_type": "code",
   "execution_count": 140,
   "id": "ed8734b7",
   "metadata": {},
   "outputs": [],
   "source": [
    "svm_bagging_model = BaggingClassifier(base_estimator = svc_model, n_estimators = 40, random_state = 14)\n",
    "dtree_bagging_model = BaggingClassifier(base_estimator = dt_model, n_estimators = 40, random_state = 14)\n",
    "knn_bagging_model = BaggingClassifier(base_estimator = knn_model, n_estimators = 40, random_state = 14)"
   ]
  },
  {
   "cell_type": "code",
   "execution_count": 141,
   "id": "64b02636",
   "metadata": {},
   "outputs": [],
   "source": [
    "def bagging_ensemble(my_model):\n",
    "    k_folds = KFold(n_splits = 20, random_state = 14, shuffle = True)\n",
    "    results = cross_val_score(my_model, x_train, y_train, cv = k_folds)\n",
    "    print('Results:', results.mean())"
   ]
  },
  {
   "cell_type": "code",
   "execution_count": 142,
   "id": "6813ac2c",
   "metadata": {},
   "outputs": [
    {
     "name": "stdout",
     "output_type": "stream",
     "text": [
      "Results: 0.12000000000000002\n",
      "Results: 0.0\n",
      "Results: 0.0\n"
     ]
    }
   ],
   "source": [
    "bagging_ensemble(svm_bagging_model)\n",
    "bagging_ensemble(dtree_bagging_model)\n",
    "bagging_ensemble(knn_bagging_model)"
   ]
  },
  {
   "cell_type": "markdown",
   "id": "4e723253",
   "metadata": {},
   "source": [
    "## Apply KFold on number estimators"
   ]
  },
  {
   "cell_type": "code",
   "execution_count": 143,
   "id": "59bfa46c",
   "metadata": {},
   "outputs": [
    {
     "name": "stdout",
     "output_type": "stream",
     "text": [
      "Results for 20 estimators:\n",
      "0.10400000000000001\n",
      "Results for 40 estimators:\n",
      "0.10600000000000002\n",
      "Results for 60 estimators:\n",
      "0.10400000000000001\n",
      "Results for 80 estimators:\n",
      "0.10400000000000001\n",
      "Results for 100 estimators:\n",
      "0.10600000000000001\n"
     ]
    }
   ],
   "source": [
    "k_folds = KFold(n_splits = 20, random_state = 14, shuffle = True)\n",
    "n_estimators = [20, 40, 60, 80, 100]\n",
    "\n",
    "for i in n_estimators:\n",
    "    ada_boost = AdaBoostClassifier(n_estimators = i, random_state = 14)\n",
    "    results = cross_val_score(ada_boost, x_train, y_train, cv = k_folds)\n",
    "    print('Results for {} estimators:'.format(i))\n",
    "    print(results.mean())"
   ]
  },
  {
   "cell_type": "code",
   "execution_count": null,
   "id": "91325042",
   "metadata": {},
   "outputs": [],
   "source": []
  }
 ],
 "metadata": {
  "kernelspec": {
   "display_name": "Python 3",
   "language": "python",
   "name": "python3"
  },
  "language_info": {
   "codemirror_mode": {
    "name": "ipython",
    "version": 3
   },
   "file_extension": ".py",
   "mimetype": "text/x-python",
   "name": "python",
   "nbconvert_exporter": "python",
   "pygments_lexer": "ipython3",
   "version": "3.8.8"
  }
 },
 "nbformat": 4,
 "nbformat_minor": 5
}
